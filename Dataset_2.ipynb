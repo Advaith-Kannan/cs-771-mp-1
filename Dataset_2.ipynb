{
 "cells": [
  {
   "cell_type": "code",
   "execution_count": 4,
   "id": "3e1b4fb7-da2b-424c-92b9-eb64e9063fd8",
   "metadata": {},
   "outputs": [
    {
     "name": "stdout",
     "output_type": "stream",
     "text": [
      "Keys in the .npz file:\n",
      "['features', 'label']\n",
      "\n",
      "Contents of features:\n",
      "[[[-0.06862289 -0.02029774  0.06447055 ...  0.06388663 -0.00998752\n",
      "    0.00310699]\n",
      "  [ 0.04829922 -0.10981937 -0.01149426 ... -0.04871156  0.26026392\n",
      "    0.00764406]\n",
      "  [ 0.01317802  0.17912972  0.05239279 ... -0.10368306 -0.3061711\n",
      "    0.03993087]\n",
      "  ...\n",
      "  [ 0.04056829  0.03725134  0.07697232 ... -0.10133194  0.00529883\n",
      "    0.01449001]\n",
      "  [-0.11185187  0.00193434  0.12458888 ...  0.01311917  0.04758739\n",
      "   -0.02193208]\n",
      "  [-0.1788078   0.00552609  0.18146187 ... -0.02888818  0.01680396\n",
      "    0.08289439]]\n",
      "\n",
      " [[-0.06862289 -0.02029774  0.06447055 ...  0.06388663 -0.00998752\n",
      "    0.00310699]\n",
      "  [ 0.06592898  0.04125806  0.04652221 ... -0.10381559 -0.05420512\n",
      "   -0.03709979]\n",
      "  [ 0.01317802  0.17912972  0.05239279 ... -0.10368306 -0.3061711\n",
      "    0.03993087]\n",
      "  ...\n",
      "  [ 0.04056829  0.03725134  0.07697232 ... -0.10133194  0.00529883\n",
      "    0.01449001]\n",
      "  [-0.11185187  0.00193434  0.12458888 ...  0.01311917  0.04758739\n",
      "   -0.02193208]\n",
      "  [-0.01304759 -0.11541383  0.05907354 ...  0.14048833 -0.02094931\n",
      "   -0.00344788]]\n",
      "\n",
      " [[-0.06862289 -0.02029774  0.06447055 ...  0.06388663 -0.00998752\n",
      "    0.00310699]\n",
      "  [-0.04567636  0.13229708  0.21048218 ...  0.08404313  0.19895583\n",
      "   -0.10096016]\n",
      "  [ 0.01317802  0.17912972  0.05239279 ... -0.10368306 -0.3061711\n",
      "    0.03993087]\n",
      "  ...\n",
      "  [ 0.04056829  0.03725134  0.07697232 ... -0.10133194  0.00529883\n",
      "    0.01449001]\n",
      "  [-0.11185187  0.00193434  0.12458888 ...  0.01311917  0.04758739\n",
      "   -0.02193208]\n",
      "  [-0.06690004  0.06249339  0.2047112  ...  0.04369658 -0.00869946\n",
      "    0.00046251]]\n",
      "\n",
      " ...\n",
      "\n",
      " [[-0.06862289 -0.02029774  0.06447055 ...  0.06388663 -0.00998752\n",
      "    0.00310699]\n",
      "  [-0.03253174 -0.07011004  0.06649353 ... -0.02291266 -0.02525314\n",
      "   -0.0630556 ]\n",
      "  [ 0.01317802  0.17912972  0.05239279 ... -0.10368306 -0.3061711\n",
      "    0.03993087]\n",
      "  ...\n",
      "  [ 0.04056829  0.03725134  0.07697232 ... -0.10133194  0.00529883\n",
      "    0.01449001]\n",
      "  [-0.11185187  0.00193434  0.12458888 ...  0.01311917  0.04758739\n",
      "   -0.02193208]\n",
      "  [-0.05373551 -0.05557981  0.07740334 ...  0.06547442  0.13117431\n",
      "   -0.09196617]]\n",
      "\n",
      " [[-0.06862289 -0.02029774  0.06447055 ...  0.06388663 -0.00998752\n",
      "    0.00310699]\n",
      "  [ 0.06817213 -0.0286012   0.04912309 ... -0.08019844  0.11362333\n",
      "   -0.05126302]\n",
      "  [ 0.01317802  0.17912972  0.05239279 ... -0.10368306 -0.3061711\n",
      "    0.03993087]\n",
      "  ...\n",
      "  [ 0.04056829  0.03725134  0.07697232 ... -0.10133194  0.00529883\n",
      "    0.01449001]\n",
      "  [-0.11185187  0.00193434  0.12458888 ...  0.01311917  0.04758739\n",
      "   -0.02193208]\n",
      "  [-0.07281005  0.03852677  0.24262543 ...  0.05235657 -0.03415266\n",
      "   -0.08380936]]\n",
      "\n",
      " [[-0.06862289 -0.02029774  0.06447055 ...  0.06388663 -0.00998752\n",
      "    0.00310699]\n",
      "  [-0.13386223 -0.04546529  0.29200462 ...  0.03157143  0.08158199\n",
      "    0.10090864]\n",
      "  [ 0.01317802  0.17912972  0.05239279 ... -0.10368306 -0.3061711\n",
      "    0.03993087]\n",
      "  ...\n",
      "  [ 0.04056829  0.03725134  0.07697232 ... -0.10133194  0.00529883\n",
      "    0.01449001]\n",
      "  [-0.11185187  0.00193434  0.12458888 ...  0.01311917  0.04758739\n",
      "   -0.02193208]\n",
      "  [-0.08413597 -0.05373388  0.13868913 ... -0.07082337  0.05503616\n",
      "   -0.11107459]]]\n",
      "\n",
      "Contents of label:\n",
      "[0 0 0 ... 1 0 0]\n"
     ]
    }
   ],
   "source": [
    "import numpy as np\n",
    "\n",
    "# Step 1: Load the .npz file\n",
    "# Replace 'your_file.npz' with the path to your .npz file\n",
    "data = np.load('datasets/train/train_feature.npz')\n",
    "\n",
    "# Step 2: Check the keys in the .npz file\n",
    "print(\"Keys in the .npz file:\")\n",
    "print(data.files)\n",
    "\n",
    "# Step 3: Access and view the contents of each array\n",
    "for key in data.files:\n",
    "    print(f\"\\nContents of {key}:\")\n",
    "    print(data[key])\n"
   ]
  },
  {
   "cell_type": "code",
   "execution_count": 12,
   "id": "447657a3-b404-49b9-87c6-03e28644ac82",
   "metadata": {},
   "outputs": [
    {
     "name": "stdout",
     "output_type": "stream",
     "text": [
      "(7080, 13, 768)\n",
      "Shape of summed features: (7080, 13)\n",
      "First 5 values of the summed features:\n",
      "[[-1.0307891   0.3130114  -0.5065322  -1.2744566  -0.9313631  -1.2385731\n",
      "  -0.9321117   0.46299785 -1.5942653  -0.9313631  -1.2385731  -0.9321117\n",
      "   0.3889779 ]\n",
      " [-1.0307891  -0.9279284  -0.5065322  -1.2744566  -0.9313631  -1.2385731\n",
      "  -0.9321117   0.91043186 -1.5942653  -0.9313631  -1.2385731  -0.9321117\n",
      "   0.5479128 ]\n",
      " [-1.0307891   0.16563201 -0.5065322  -1.2744566  -0.9313631  -1.2385731\n",
      "  -0.9321117   0.5615124  -1.5942653  -0.9313631  -1.2385731  -0.9321117\n",
      "  -0.16408134]\n",
      " [-1.0307891   0.16739309 -0.5065322  -1.2744566  -0.9313631  -1.2385731\n",
      "  -0.9321117  -0.04713106 -1.5942653  -0.9313631  -1.2385731  -0.9321117\n",
      "   0.15308356]\n",
      " [-1.0307891   0.15936828 -0.5065322  -1.2744566  -0.9313631  -1.2385731\n",
      "  -0.9321117   0.54692376 -1.5942653  -0.9313631  -1.2385731  -0.9321117\n",
      "   0.5479128 ]]\n"
     ]
    }
   ],
   "source": [
    "\n",
    "features = data['features']\n",
    "print(features.shape)\n",
    "# Output the shape and some values to verify\n",
    "summed_features = np.sum(features, axis=2)\n",
    "# summed_features_column = summed_features.reshape(-1, 1)  # Reshape to (786, 1)\n",
    "\n",
    "print(\"Shape of summed features:\", summed_features.shape)\n",
    "print(\"First 5 values of the summed features:\")\n",
    "print(summed_features[:5])"
   ]
  },
  {
   "cell_type": "code",
   "execution_count": 14,
   "id": "1421073e-79b9-4597-809f-938c6e33e7d5",
   "metadata": {},
   "outputs": [
    {
     "name": "stdout",
     "output_type": "stream",
     "text": [
      "Top 20 most common feature values and their counts:\n",
      "Value: -0.9313631057739258, Count: 14160\n",
      "Value: -1.2385730743408203, Count: 14160\n",
      "Value: -0.9321116805076599, Count: 14160\n",
      "Value: -1.0307891368865967, Count: 7080\n",
      "Value: -0.5065321922302246, Count: 7080\n",
      "Value: -1.2744566202163696, Count: 7080\n",
      "Value: -1.594265341758728, Count: 7080\n"
     ]
    }
   ],
   "source": [
    "import numpy as np\n",
    "from collections import Counter\n",
    "\n",
    "# Step 1: Flatten the summed_features array into a 1D array\n",
    "flattened_features = summed_features.flatten()\n",
    "\n",
    "# Step 2: Use Counter to count occurrences of each unique value\n",
    "value_counts = Counter(flattened_features)\n",
    "\n",
    "# Step 3: Get the 20 most common values\n",
    "top_7_values = value_counts.most_common(7)\n",
    "\n",
    "# Step 4: Display the results\n",
    "print(\"Top 20 most common feature values and their counts:\")\n",
    "for value, count in top_7_values:\n",
    "    print(f\"Value: {value}, Count: {count}\")\n"
   ]
  },
  {
   "cell_type": "code",
   "execution_count": 17,
   "id": "9cd4b239-7776-4e2a-8eb3-01cf41ea7211",
   "metadata": {},
   "outputs": [
    {
     "name": "stdout",
     "output_type": "stream",
     "text": [
      "Shape of the filtered matrix: (7080, 3)\n",
      "[[ 0.31301141  0.46299785  0.38897789]\n",
      " [-0.92792839  0.91043186  0.54791278]\n",
      " [ 0.16563201  0.56151241 -0.16408134]\n",
      " [ 0.16739309 -0.04713106  0.15308356]\n",
      " [ 0.15936828  0.54692376  0.54791278]]\n"
     ]
    }
   ],
   "source": [
    "import numpy as np\n",
    "\n",
    "# Step 1: Flatten the summed_features array (7080, 13) to a 1D array for easy comparison\n",
    "# flattened_features = summed_features.flatten()\n",
    "\n",
    "# Step 2: Identify the common values (let's assume they are in a list called `common_values`)\n",
    "common_values = [value for value, count in top_7_values]  # top_20_values contains the most common values\n",
    "\n",
    "# Step 3: Reshape the flattened_features back into (7080, 13)\n",
    "reshaped_features = summed_features\n",
    "\n",
    "# Step 4: Filter out columns with the common values across all entries\n",
    "filtered_matrix = np.zeros((7080, 0))  # Start with an empty matrix for the filtered data\n",
    "\n",
    "for i in range(13):\n",
    "    # Get the ith column across all entries\n",
    "    column_data = reshaped_features[:, i]\n",
    "    \n",
    "    # Check if the column contains one of the common values\n",
    "    if not np.any(np.isin(column_data, common_values)):\n",
    "        # If the column doesn't contain any common values, keep it\n",
    "        filtered_matrix = np.column_stack((filtered_matrix, column_data))\n",
    "\n",
    "# Step 5: The resulting matrix should have fewer columns\n",
    "print(\"Shape of the filtered matrix:\", filtered_matrix.shape)\n",
    "print(filtered_matrix[:5])\n",
    "# Expected shape after removing 10 features: (7080, 3)\n"
   ]
  },
  {
   "cell_type": "code",
   "execution_count": 21,
   "id": "e3039b2a-ad47-480c-ba9c-e7fffd4d2b45",
   "metadata": {},
   "outputs": [
    {
     "name": "stdout",
     "output_type": "stream",
     "text": [
      "             Feature_1             Feature_2             Feature_3\n",
      "0  0.31301140785217285    0.4629978537559509   0.38897788524627686\n",
      "1  -0.9279283881187439    0.9104318618774414    0.5479127764701843\n",
      "2  0.16563200950622559    0.5615124106407166  -0.16408133506774902\n",
      "3  0.16739308834075928  -0.04713106155395508   0.15308356285095215\n",
      "4  0.15936827659606934    0.5469237565994263    0.5479127764701843\n",
      "[0 0 0 ... 1 0 0]\n",
      "Training set size: (5664, 3)\n",
      "Test set size: (1416, 3)\n"
     ]
    }
   ],
   "source": [
    "import pandas as pd\n",
    "import numpy as np\n",
    "from sklearn.model_selection import train_test_split\n",
    "from tensorflow.keras.models import Sequential\n",
    "from tensorflow.keras.layers import Dense, LSTM, Embedding\n",
    "from sklearn.preprocessing import LabelEncoder\n",
    "\n",
    "# Assuming filtered_matrix is a numpy array (7080, 13)\n",
    "# and top_3_feature_indices is a list containing the column indices of the 3 most common features\n",
    "top_3_feature_indices = [0, 1, 2]  # Replace with actual indices of the 3 common features\n",
    "\n",
    "# Step 1: Extract the 3 most common features from the matrix\n",
    "filtered_matrix_top3 = filtered_matrix[:, top_3_feature_indices]\n",
    "\n",
    "# Convert this to a DataFrame for easier manipulation\n",
    "df_top3 = pd.DataFrame(filtered_matrix_top3, columns=['Feature_1', 'Feature_2', 'Feature_3'])\n",
    "print(df_top3.head())  # Preview the top 3 features\n",
    "# Assuming your labels are in a column or a separate array (y_labels)\n",
    "y_labels = data['label']  # Replace with actual label column\n",
    "\n",
    "# Step 3: Encode the labels (if necessary)\n",
    "label_encoder = LabelEncoder()\n",
    "y_encoded = label_encoder.fit_transform(y_labels)\n",
    "# print(y_encoded)\n",
    "# Step 4: Split into training and testing sets\n"
   ]
  },
  {
   "cell_type": "code",
   "execution_count": 43,
   "id": "73bc93c7-f73a-4261-8c0d-eb9bb0154723",
   "metadata": {},
   "outputs": [
    {
     "name": "stdout",
     "output_type": "stream",
     "text": [
      "Tokenized sequences shape: (7080, 6)\n",
      "Training set size: (1416, 6)\n",
      "Test set size: (5664, 6)\n",
      "(1416,)\n",
      "Epoch 1/30\n"
     ]
    },
    {
     "name": "stderr",
     "output_type": "stream",
     "text": [
      "/home/baftol/.local/lib/python3.10/site-packages/keras/src/layers/core/embedding.py:90: UserWarning: Argument `input_length` is deprecated. Just remove it.\n",
      "  warnings.warn(\n"
     ]
    },
    {
     "name": "stdout",
     "output_type": "stream",
     "text": [
      "\u001b[1m23/23\u001b[0m \u001b[32m━━━━━━━━━━━━━━━━━━━━\u001b[0m\u001b[37m\u001b[0m \u001b[1m1s\u001b[0m 2ms/step - accuracy: 0.4914 - loss: 0.6933\n",
      "Epoch 2/30\n",
      "\u001b[1m23/23\u001b[0m \u001b[32m━━━━━━━━━━━━━━━━━━━━\u001b[0m\u001b[37m\u001b[0m \u001b[1m0s\u001b[0m 2ms/step - accuracy: 0.4995 - loss: 0.6931 \n",
      "Epoch 3/30\n",
      "\u001b[1m23/23\u001b[0m \u001b[32m━━━━━━━━━━━━━━━━━━━━\u001b[0m\u001b[37m\u001b[0m \u001b[1m0s\u001b[0m 2ms/step - accuracy: 0.5034 - loss: 0.6931 \n",
      "Epoch 4/30\n",
      "\u001b[1m23/23\u001b[0m \u001b[32m━━━━━━━━━━━━━━━━━━━━\u001b[0m\u001b[37m\u001b[0m \u001b[1m0s\u001b[0m 2ms/step - accuracy: 0.4934 - loss: 0.6930 \n",
      "Epoch 5/30\n",
      "\u001b[1m23/23\u001b[0m \u001b[32m━━━━━━━━━━━━━━━━━━━━\u001b[0m\u001b[37m\u001b[0m \u001b[1m0s\u001b[0m 2ms/step - accuracy: 0.5364 - loss: 0.6916 \n",
      "Epoch 6/30\n",
      "\u001b[1m23/23\u001b[0m \u001b[32m━━━━━━━━━━━━━━━━━━━━\u001b[0m\u001b[37m\u001b[0m \u001b[1m0s\u001b[0m 2ms/step - accuracy: 0.5963 - loss: 0.6898 \n",
      "Epoch 7/30\n",
      "\u001b[1m23/23\u001b[0m \u001b[32m━━━━━━━━━━━━━━━━━━━━\u001b[0m\u001b[37m\u001b[0m \u001b[1m0s\u001b[0m 2ms/step - accuracy: 0.6128 - loss: 0.6841 \n",
      "Epoch 8/30\n",
      "\u001b[1m23/23\u001b[0m \u001b[32m━━━━━━━━━━━━━━━━━━━━\u001b[0m\u001b[37m\u001b[0m \u001b[1m0s\u001b[0m 2ms/step - accuracy: 0.6450 - loss: 0.6654 \n",
      "Epoch 9/30\n",
      "\u001b[1m23/23\u001b[0m \u001b[32m━━━━━━━━━━━━━━━━━━━━\u001b[0m\u001b[37m\u001b[0m \u001b[1m0s\u001b[0m 2ms/step - accuracy: 0.7030 - loss: 0.5978 \n",
      "Epoch 10/30\n",
      "\u001b[1m23/23\u001b[0m \u001b[32m━━━━━━━━━━━━━━━━━━━━\u001b[0m\u001b[37m\u001b[0m \u001b[1m0s\u001b[0m 2ms/step - accuracy: 0.7522 - loss: 0.5008 \n",
      "Epoch 11/30\n",
      "\u001b[1m23/23\u001b[0m \u001b[32m━━━━━━━━━━━━━━━━━━━━\u001b[0m\u001b[37m\u001b[0m \u001b[1m0s\u001b[0m 2ms/step - accuracy: 0.7989 - loss: 0.4241 \n",
      "Epoch 12/30\n",
      "\u001b[1m23/23\u001b[0m \u001b[32m━━━━━━━━━━━━━━━━━━━━\u001b[0m\u001b[37m\u001b[0m \u001b[1m0s\u001b[0m 2ms/step - accuracy: 0.8292 - loss: 0.3734 \n",
      "Epoch 13/30\n",
      "\u001b[1m23/23\u001b[0m \u001b[32m━━━━━━━━━━━━━━━━━━━━\u001b[0m\u001b[37m\u001b[0m \u001b[1m0s\u001b[0m 2ms/step - accuracy: 0.8444 - loss: 0.3493 \n",
      "Epoch 14/30\n",
      "\u001b[1m23/23\u001b[0m \u001b[32m━━━━━━━━━━━━━━━━━━━━\u001b[0m\u001b[37m\u001b[0m \u001b[1m0s\u001b[0m 2ms/step - accuracy: 0.8615 - loss: 0.3022 \n",
      "Epoch 15/30\n",
      "\u001b[1m23/23\u001b[0m \u001b[32m━━━━━━━━━━━━━━━━━━━━\u001b[0m\u001b[37m\u001b[0m \u001b[1m0s\u001b[0m 2ms/step - accuracy: 0.9038 - loss: 0.2531 \n",
      "Epoch 16/30\n",
      "\u001b[1m23/23\u001b[0m \u001b[32m━━━━━━━━━━━━━━━━━━━━\u001b[0m\u001b[37m\u001b[0m \u001b[1m0s\u001b[0m 2ms/step - accuracy: 0.9076 - loss: 0.2276 \n",
      "Epoch 17/30\n",
      "\u001b[1m23/23\u001b[0m \u001b[32m━━━━━━━━━━━━━━━━━━━━\u001b[0m\u001b[37m\u001b[0m \u001b[1m0s\u001b[0m 2ms/step - accuracy: 0.9154 - loss: 0.2086 \n",
      "Epoch 18/30\n",
      "\u001b[1m23/23\u001b[0m \u001b[32m━━━━━━━━━━━━━━━━━━━━\u001b[0m\u001b[37m\u001b[0m \u001b[1m0s\u001b[0m 2ms/step - accuracy: 0.9443 - loss: 0.1659 \n",
      "Epoch 19/30\n",
      "\u001b[1m23/23\u001b[0m \u001b[32m━━━━━━━━━━━━━━━━━━━━\u001b[0m\u001b[37m\u001b[0m \u001b[1m0s\u001b[0m 2ms/step - accuracy: 0.9344 - loss: 0.1787 \n",
      "Epoch 20/30\n",
      "\u001b[1m23/23\u001b[0m \u001b[32m━━━━━━━━━━━━━━━━━━━━\u001b[0m\u001b[37m\u001b[0m \u001b[1m0s\u001b[0m 2ms/step - accuracy: 0.9475 - loss: 0.1479 \n",
      "Epoch 21/30\n",
      "\u001b[1m23/23\u001b[0m \u001b[32m━━━━━━━━━━━━━━━━━━━━\u001b[0m\u001b[37m\u001b[0m \u001b[1m0s\u001b[0m 2ms/step - accuracy: 0.9294 - loss: 0.1546 \n",
      "Epoch 22/30\n",
      "\u001b[1m23/23\u001b[0m \u001b[32m━━━━━━━━━━━━━━━━━━━━\u001b[0m\u001b[37m\u001b[0m \u001b[1m0s\u001b[0m 2ms/step - accuracy: 0.9531 - loss: 0.1355 \n",
      "Epoch 23/30\n",
      "\u001b[1m23/23\u001b[0m \u001b[32m━━━━━━━━━━━━━━━━━━━━\u001b[0m\u001b[37m\u001b[0m \u001b[1m0s\u001b[0m 2ms/step - accuracy: 0.9665 - loss: 0.1056 \n",
      "Epoch 24/30\n",
      "\u001b[1m23/23\u001b[0m \u001b[32m━━━━━━━━━━━━━━━━━━━━\u001b[0m\u001b[37m\u001b[0m \u001b[1m0s\u001b[0m 2ms/step - accuracy: 0.9656 - loss: 0.1048 \n",
      "Epoch 25/30\n",
      "\u001b[1m23/23\u001b[0m \u001b[32m━━━━━━━━━━━━━━━━━━━━\u001b[0m\u001b[37m\u001b[0m \u001b[1m0s\u001b[0m 3ms/step - accuracy: 0.9663 - loss: 0.0981\n",
      "Epoch 26/30\n",
      "\u001b[1m23/23\u001b[0m \u001b[32m━━━━━━━━━━━━━━━━━━━━\u001b[0m\u001b[37m\u001b[0m \u001b[1m0s\u001b[0m 2ms/step - accuracy: 0.9725 - loss: 0.0893 \n",
      "Epoch 27/30\n",
      "\u001b[1m23/23\u001b[0m \u001b[32m━━━━━━━━━━━━━━━━━━━━\u001b[0m\u001b[37m\u001b[0m \u001b[1m0s\u001b[0m 2ms/step - accuracy: 0.9720 - loss: 0.0892 \n",
      "Epoch 28/30\n",
      "\u001b[1m23/23\u001b[0m \u001b[32m━━━━━━━━━━━━━━━━━━━━\u001b[0m\u001b[37m\u001b[0m \u001b[1m0s\u001b[0m 2ms/step - accuracy: 0.9598 - loss: 0.0932 \n",
      "Epoch 29/30\n",
      "\u001b[1m23/23\u001b[0m \u001b[32m━━━━━━━━━━━━━━━━━━━━\u001b[0m\u001b[37m\u001b[0m \u001b[1m0s\u001b[0m 2ms/step - accuracy: 0.9703 - loss: 0.0842 \n",
      "Epoch 30/30\n",
      "\u001b[1m23/23\u001b[0m \u001b[32m━━━━━━━━━━━━━━━━━━━━\u001b[0m\u001b[37m\u001b[0m \u001b[1m0s\u001b[0m 2ms/step - accuracy: 0.9616 - loss: 0.0913 \n",
      "\u001b[1m177/177\u001b[0m \u001b[32m━━━━━━━━━━━━━━━━━━━━\u001b[0m\u001b[37m\u001b[0m \u001b[1m0s\u001b[0m 667us/step\n",
      "Neural Network Test Accuracy: 95.60%\n"
     ]
    },
    {
     "data": {
      "text/html": [
       "<pre style=\"white-space:pre;overflow-x:auto;line-height:normal;font-family:Menlo,'DejaVu Sans Mono',consolas,'Courier New',monospace\"><span style=\"font-weight: bold\">Model: \"sequential_14\"</span>\n",
       "</pre>\n"
      ],
      "text/plain": [
       "\u001b[1mModel: \"sequential_14\"\u001b[0m\n"
      ]
     },
     "metadata": {},
     "output_type": "display_data"
    },
    {
     "data": {
      "text/html": [
       "<pre style=\"white-space:pre;overflow-x:auto;line-height:normal;font-family:Menlo,'DejaVu Sans Mono',consolas,'Courier New',monospace\">┏━━━━━━━━━━━━━━━━━━━━━━━━━━━━━━━━━┳━━━━━━━━━━━━━━━━━━━━━━━━┳━━━━━━━━━━━━━━━┓\n",
       "┃<span style=\"font-weight: bold\"> Layer (type)                    </span>┃<span style=\"font-weight: bold\"> Output Shape           </span>┃<span style=\"font-weight: bold\">       Param # </span>┃\n",
       "┡━━━━━━━━━━━━━━━━━━━━━━━━━━━━━━━━━╇━━━━━━━━━━━━━━━━━━━━━━━━╇━━━━━━━━━━━━━━━┩\n",
       "│ embedding_13 (<span style=\"color: #0087ff; text-decoration-color: #0087ff\">Embedding</span>)        │ (<span style=\"color: #00d7ff; text-decoration-color: #00d7ff\">None</span>, <span style=\"color: #00af00; text-decoration-color: #00af00\">6</span>, <span style=\"color: #00af00; text-decoration-color: #00af00\">50</span>)          │        <span style=\"color: #00af00; text-decoration-color: #00af00\">10,500</span> │\n",
       "├─────────────────────────────────┼────────────────────────┼───────────────┤\n",
       "│ conv1d_9 (<span style=\"color: #0087ff; text-decoration-color: #0087ff\">Conv1D</span>)               │ (<span style=\"color: #00d7ff; text-decoration-color: #00d7ff\">None</span>, <span style=\"color: #00af00; text-decoration-color: #00af00\">6</span>, <span style=\"color: #00af00; text-decoration-color: #00af00\">48</span>)          │         <span style=\"color: #00af00; text-decoration-color: #00af00\">2,448</span> │\n",
       "├─────────────────────────────────┼────────────────────────┼───────────────┤\n",
       "│ lstm_6 (<span style=\"color: #0087ff; text-decoration-color: #0087ff\">LSTM</span>)                   │ (<span style=\"color: #00d7ff; text-decoration-color: #00d7ff\">None</span>, <span style=\"color: #00af00; text-decoration-color: #00af00\">20</span>)             │         <span style=\"color: #00af00; text-decoration-color: #00af00\">5,520</span> │\n",
       "├─────────────────────────────────┼────────────────────────┼───────────────┤\n",
       "│ dense_31 (<span style=\"color: #0087ff; text-decoration-color: #0087ff\">Dense</span>)                │ (<span style=\"color: #00d7ff; text-decoration-color: #00d7ff\">None</span>, <span style=\"color: #00af00; text-decoration-color: #00af00\">64</span>)             │         <span style=\"color: #00af00; text-decoration-color: #00af00\">1,344</span> │\n",
       "├─────────────────────────────────┼────────────────────────┼───────────────┤\n",
       "│ dropout_13 (<span style=\"color: #0087ff; text-decoration-color: #0087ff\">Dropout</span>)            │ (<span style=\"color: #00d7ff; text-decoration-color: #00d7ff\">None</span>, <span style=\"color: #00af00; text-decoration-color: #00af00\">64</span>)             │             <span style=\"color: #00af00; text-decoration-color: #00af00\">0</span> │\n",
       "├─────────────────────────────────┼────────────────────────┼───────────────┤\n",
       "│ dense_32 (<span style=\"color: #0087ff; text-decoration-color: #0087ff\">Dense</span>)                │ (<span style=\"color: #00d7ff; text-decoration-color: #00d7ff\">None</span>, <span style=\"color: #00af00; text-decoration-color: #00af00\">1</span>)              │            <span style=\"color: #00af00; text-decoration-color: #00af00\">65</span> │\n",
       "└─────────────────────────────────┴────────────────────────┴───────────────┘\n",
       "</pre>\n"
      ],
      "text/plain": [
       "┏━━━━━━━━━━━━━━━━━━━━━━━━━━━━━━━━━┳━━━━━━━━━━━━━━━━━━━━━━━━┳━━━━━━━━━━━━━━━┓\n",
       "┃\u001b[1m \u001b[0m\u001b[1mLayer (type)                   \u001b[0m\u001b[1m \u001b[0m┃\u001b[1m \u001b[0m\u001b[1mOutput Shape          \u001b[0m\u001b[1m \u001b[0m┃\u001b[1m \u001b[0m\u001b[1m      Param #\u001b[0m\u001b[1m \u001b[0m┃\n",
       "┡━━━━━━━━━━━━━━━━━━━━━━━━━━━━━━━━━╇━━━━━━━━━━━━━━━━━━━━━━━━╇━━━━━━━━━━━━━━━┩\n",
       "│ embedding_13 (\u001b[38;5;33mEmbedding\u001b[0m)        │ (\u001b[38;5;45mNone\u001b[0m, \u001b[38;5;34m6\u001b[0m, \u001b[38;5;34m50\u001b[0m)          │        \u001b[38;5;34m10,500\u001b[0m │\n",
       "├─────────────────────────────────┼────────────────────────┼───────────────┤\n",
       "│ conv1d_9 (\u001b[38;5;33mConv1D\u001b[0m)               │ (\u001b[38;5;45mNone\u001b[0m, \u001b[38;5;34m6\u001b[0m, \u001b[38;5;34m48\u001b[0m)          │         \u001b[38;5;34m2,448\u001b[0m │\n",
       "├─────────────────────────────────┼────────────────────────┼───────────────┤\n",
       "│ lstm_6 (\u001b[38;5;33mLSTM\u001b[0m)                   │ (\u001b[38;5;45mNone\u001b[0m, \u001b[38;5;34m20\u001b[0m)             │         \u001b[38;5;34m5,520\u001b[0m │\n",
       "├─────────────────────────────────┼────────────────────────┼───────────────┤\n",
       "│ dense_31 (\u001b[38;5;33mDense\u001b[0m)                │ (\u001b[38;5;45mNone\u001b[0m, \u001b[38;5;34m64\u001b[0m)             │         \u001b[38;5;34m1,344\u001b[0m │\n",
       "├─────────────────────────────────┼────────────────────────┼───────────────┤\n",
       "│ dropout_13 (\u001b[38;5;33mDropout\u001b[0m)            │ (\u001b[38;5;45mNone\u001b[0m, \u001b[38;5;34m64\u001b[0m)             │             \u001b[38;5;34m0\u001b[0m │\n",
       "├─────────────────────────────────┼────────────────────────┼───────────────┤\n",
       "│ dense_32 (\u001b[38;5;33mDense\u001b[0m)                │ (\u001b[38;5;45mNone\u001b[0m, \u001b[38;5;34m1\u001b[0m)              │            \u001b[38;5;34m65\u001b[0m │\n",
       "└─────────────────────────────────┴────────────────────────┴───────────────┘\n"
      ]
     },
     "metadata": {},
     "output_type": "display_data"
    },
    {
     "data": {
      "text/html": [
       "<pre style=\"white-space:pre;overflow-x:auto;line-height:normal;font-family:Menlo,'DejaVu Sans Mono',consolas,'Courier New',monospace\"><span style=\"font-weight: bold\"> Total params: </span><span style=\"color: #00af00; text-decoration-color: #00af00\">38,633</span> (150.91 KB)\n",
       "</pre>\n"
      ],
      "text/plain": [
       "\u001b[1m Total params: \u001b[0m\u001b[38;5;34m38,633\u001b[0m (150.91 KB)\n"
      ]
     },
     "metadata": {},
     "output_type": "display_data"
    },
    {
     "data": {
      "text/html": [
       "<pre style=\"white-space:pre;overflow-x:auto;line-height:normal;font-family:Menlo,'DejaVu Sans Mono',consolas,'Courier New',monospace\"><span style=\"font-weight: bold\"> Trainable params: </span><span style=\"color: #00af00; text-decoration-color: #00af00\">9,377</span> (36.63 KB)\n",
       "</pre>\n"
      ],
      "text/plain": [
       "\u001b[1m Trainable params: \u001b[0m\u001b[38;5;34m9,377\u001b[0m (36.63 KB)\n"
      ]
     },
     "metadata": {},
     "output_type": "display_data"
    },
    {
     "data": {
      "text/html": [
       "<pre style=\"white-space:pre;overflow-x:auto;line-height:normal;font-family:Menlo,'DejaVu Sans Mono',consolas,'Courier New',monospace\"><span style=\"font-weight: bold\"> Non-trainable params: </span><span style=\"color: #00af00; text-decoration-color: #00af00\">10,500</span> (41.02 KB)\n",
       "</pre>\n"
      ],
      "text/plain": [
       "\u001b[1m Non-trainable params: \u001b[0m\u001b[38;5;34m10,500\u001b[0m (41.02 KB)\n"
      ]
     },
     "metadata": {},
     "output_type": "display_data"
    },
    {
     "data": {
      "text/html": [
       "<pre style=\"white-space:pre;overflow-x:auto;line-height:normal;font-family:Menlo,'DejaVu Sans Mono',consolas,'Courier New',monospace\"><span style=\"font-weight: bold\"> Optimizer params: </span><span style=\"color: #00af00; text-decoration-color: #00af00\">18,756</span> (73.27 KB)\n",
       "</pre>\n"
      ],
      "text/plain": [
       "\u001b[1m Optimizer params: \u001b[0m\u001b[38;5;34m18,756\u001b[0m (73.27 KB)\n"
      ]
     },
     "metadata": {},
     "output_type": "display_data"
    }
   ],
   "source": [
    "import numpy as np\n",
    "from tensorflow.keras.preprocessing.text import Tokenizer\n",
    "from tensorflow.keras.preprocessing.sequence import pad_sequences\n",
    "from tensorflow.keras.models import Sequential\n",
    "from tensorflow.keras.layers import Embedding, Dense, LSTM,Dropout,Conv1D,SimpleRNN\n",
    "from sklearn.model_selection import train_test_split\n",
    "from sklearn.preprocessing import LabelEncoder\n",
    "from sklearn.metrics import accuracy_score\n",
    "\n",
    "\n",
    "# Assuming filtered_matrix is of shape (7080, 3) from the previous steps\n",
    "from tensorflow.keras.preprocessing.text import Tokenizer\n",
    "df_top3_str = df_top3.apply(lambda row: ' '.join(map(str, row)), axis=1)\n",
    "\n",
    "# Step 1: Tokenizer for numerical features\n",
    "# Since the features are integers, we first need to convert them to strings for Tokenizer to work.\n",
    "# df_top3_str = df_top3.astype(str)\n",
    "\n",
    "# Initialize the tokenizer\n",
    "tokenizer = Tokenizer()\n",
    "\n",
    "# Fit the tokenizer on the features\n",
    "tokenizer.fit_on_texts(df_top3_str.values)\n",
    "\n",
    "# Step 2: Convert the integer sequences to tokenized sequences\n",
    "X_tokenized = tokenizer.texts_to_sequences(df_top3_str.values)\n",
    "max_len = max(len(x) for x in X_tokenized)\n",
    "# Since tokenizer output is a list of lists, convert it back to a numpy array\n",
    "X_padded = pad_sequences(X_tokenized, padding='post',maxlen = max_len)  # Use padding if necessary\n",
    "\n",
    "print(\"Tokenized sequences shape:\", X_padded.shape)\n",
    "X_train, X_test, y_train, y_test = train_test_split(X_padded, y_encoded, test_size=0.8, random_state=42)\n",
    "\n",
    "print(\"Training set size:\", X_train.shape)\n",
    "print(\"Test set size:\", X_test.shape)\n",
    "print(y_train.shape)\n",
    "# Step 5: Define the neural network model\n",
    "model = Sequential()\n",
    "\n",
    "# Embedding layer with pre-trained embeddings (trainable=False)\n",
    "model.add(Embedding(input_dim=len(tokenizer.word_index) + 1, output_dim=50, input_length=max_len, trainable=False))\n",
    "\n",
    "# Convolutional layer with fewer filters\n",
    "model.add(Conv1D(filters=48, kernel_size=1, activation='relu'))\n",
    "# model.add(MaxPooling1D(pool_size=2))\n",
    "\n",
    "# LSTM layer with fewer units\n",
    "model.add((LSTM(20, return_sequences=False)))\n",
    "\n",
    "# Dense layers with Dropout\n",
    "model.add(Dense(64, activation='relu'))\n",
    "model.add(Dropout(0.1))\n",
    "model.add(Dense(1, activation='sigmoid'))\n",
    "\n",
    "# Compile the model\n",
    "model.compile(optimizer='adam', loss='binary_crossentropy', metrics=['accuracy'])\n",
    "\n",
    "# Train the model\n",
    "history = model.fit(X_train, y_train, epochs=30, batch_size=64, verbose=1)\n",
    "# Step 8: Evaluate the model\n",
    "y_pred = (model.predict(X_test) > 0.5).astype(int)\n",
    "\n",
    "# Evaluate the model\n",
    "accuracy = accuracy_score(y_test, y_pred)\n",
    "print(f\"Neural Network Test Accuracy: {accuracy * 100:.2f}%\")\n",
    "model.summary()\n",
    "# Step 9: Make predictions\n",
    "# Threshold for binary classification\n"
   ]
  },
  {
   "cell_type": "code",
   "execution_count": null,
   "id": "e3ff5ce7-ae31-4758-b856-bb3d81a2c119",
   "metadata": {},
   "outputs": [],
   "source": []
  }
 ],
 "metadata": {
  "kernelspec": {
   "display_name": "Python 3 (ipykernel)",
   "language": "python",
   "name": "python3"
  },
  "language_info": {
   "codemirror_mode": {
    "name": "ipython",
    "version": 3
   },
   "file_extension": ".py",
   "mimetype": "text/x-python",
   "name": "python",
   "nbconvert_exporter": "python",
   "pygments_lexer": "ipython3",
   "version": "3.10.12"
  }
 },
 "nbformat": 4,
 "nbformat_minor": 5
}
